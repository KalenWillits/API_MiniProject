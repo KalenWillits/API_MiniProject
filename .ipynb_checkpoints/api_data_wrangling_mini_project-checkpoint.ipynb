{
 "cells": [
  {
   "cell_type": "markdown",
   "metadata": {},
   "source": [
    "This exercise will require you to pull some data from the Qunadl API. Qaundl is currently the most widely used aggregator of financial market data."
   ]
  },
  {
   "cell_type": "markdown",
   "metadata": {},
   "source": [
    "As a first step, you will need to register a free account on the http://www.quandl.com website."
   ]
  },
  {
   "cell_type": "markdown",
   "metadata": {},
   "source": [
    "After you register, you will be provided with a unique API key, that you should store:"
   ]
  },
  {
   "cell_type": "code",
   "execution_count": 1,
   "metadata": {},
   "outputs": [
    {
     "name": "stdout",
     "output_type": "stream",
     "text": [
      "xyeWs4yo3bDzesxA8mtU\n",
      "\n"
     ]
    }
   ],
   "source": [
    "# Store the API key as a string - according to PEP8, constants are always named in all upper caseAPI\n",
    "with open('Quadl_API_KEY.txt', 'r') as file:\n",
    "    API_KEY = file.readline()\n",
    "    print(API_KEY)"
   ]
  },
  {
   "cell_type": "markdown",
   "metadata": {},
   "source": [
    "Qaundl has a large number of data sources, but, unfortunately, most of them require a Premium subscription. Still, there are also a good number of free datasets."
   ]
  },
  {
   "cell_type": "markdown",
   "metadata": {},
   "source": [
    "For this mini project, we will focus on equities data from the Frankfurt Stock Exhange (FSE), which is available for free. We'll try and analyze the stock prices of a company called Carl Zeiss Meditec, which manufactures tools for eye examinations, as well as medical lasers for laser eye surgery: https://www.zeiss.com/meditec/int/home.html. The company is listed under the stock ticker AFX_X."
   ]
  },
  {
   "cell_type": "markdown",
   "metadata": {},
   "source": [
    "You can find the detailed Quandl API instructions here: https://docs.quandl.com/docs/time-series"
   ]
  },
  {
   "cell_type": "markdown",
   "metadata": {},
   "source": [
    "While there is a dedicated Python package for connecting to the Quandl API, we would prefer that you use the *requests* package, which can be easily downloaded using *pip* or *conda*. You can find the documentation for the package here: http://docs.python-requests.org/en/master/ "
   ]
  },
  {
   "cell_type": "markdown",
   "metadata": {},
   "source": [
    "Finally, apart from the *requests* package, you are encouraged to not use any third party Python packages, such as *pandas*, and instead focus on what's available in the Python Standard Library (the *collections* module might come in handy: https://pymotw.com/3/collections/ ).\n",
    "Also, since you won't have access to DataFrames, you are encouraged to us Python's native data structures - preferably dictionaries, though some questions can also be answered using lists.\n",
    "You can read more on these data structures here: https://docs.python.org/3/tutorial/datastructures.html"
   ]
  },
  {
   "cell_type": "markdown",
   "metadata": {},
   "source": [
    "Keep in mind that the JSON responses you will be getting from the API map almost one-to-one to Python's dictionaries. Unfortunately, they can be very nested, so make sure you read up on indexing dictionaries in the documentation provided above."
   ]
  },
  {
   "cell_type": "code",
   "execution_count": 2,
   "metadata": {},
   "outputs": [],
   "source": [
    "# First, import the relevant modules\n",
    "import requests"
   ]
  },
  {
   "cell_type": "code",
   "execution_count": 3,
   "metadata": {},
   "outputs": [],
   "source": [
    "# Now, call the Quandl API and pull out a small sample of the data (only one day) to get a glimpse\n",
    "# into the JSON structure that will be returned\n",
    "\n",
    "url = \"https://www.quandl.com/api/v3/datasets/FSE/AFX_X/data.json?api_key=\" + API_KEY + \"&start_date=2017=01-01&end_date=2017-12-31\"\n",
    "r = requests.get(url)"
   ]
  },
  {
   "cell_type": "code",
   "execution_count": 4,
   "metadata": {},
   "outputs": [
    {
     "name": "stdout",
     "output_type": "stream",
     "text": [
      "{'Allow': 'GET, HEAD, POST, PUT, DELETE, OPTIONS, PATCH', 'Cache-Control': 'no-cache', 'Content-Type': 'application/json; charset=utf-8', 'Date': 'Mon, 25 May 2020 02:03:33 GMT', 'Server': 'openresty', 'Vary': 'Origin', 'X-Content-Type-Options': 'nosniff', 'X-Frame-Options': 'SAMEORIGIN', 'X-Rack-CORS': 'miss; no-origin', 'X-RateLimit-Limit': '50000', 'X-RateLimit-Remaining': '49962', 'X-Request-Id': '8039bbb2-cd8f-40d1-86f0-1d82ab268c3a', 'X-Runtime': '0.067248', 'X-XSS-Protection': '1; mode=block', 'Connection': 'keep-alive', 'Set-Cookie': 'visid_incap_2261005=OXKd8aFJRduTJM5xwPnW4XQny14AAAAAQUIPAAAAAADc9MjvpllqG+dVAxfrZYIN; expires=Mon, 24 May 2021 08:21:36 GMT; HttpOnly; path=/; Domain=.quandl.com; Secure; SameSite=None, nlbi_2261005=/hjKSqiV13G93Y5XgSMXTwAAAABgxQh+w1WPcCwr2XitM+MI; path=/; Domain=.quandl.com; Secure; SameSite=None, incap_ses_1169_2261005=uEO9ZKoSVHRLnWsU/R85EHQny14AAAAAcEIeY+pXMuxIhD1DvGHzfQ==; path=/; Domain=.quandl.com; Secure; SameSite=None', 'Strict-Transport-Security': 'max-age=31536000; includeSubDomains', 'X-CDN': 'Incapsula', 'Content-Encoding': 'gzip', 'Transfer-Encoding': 'chunked', 'X-Iinfo': '7-37306865-37306869 NNYY CT(0 0 0) RT(1590372212743 69) q(0 0 0 -1) r(0 0) U11'}\n",
      "{\"errors\":{\"start_date\":[\"You provided 2017=01-01 for start_date. This is not a recognized date format. Please provide yyyy-mm-dd\"]},\"quandl_error\":{\"code\":\"QESx04\",\"message\":\"You have submitted incorrect query parameters. Please check your API call syntax and try again.\"}}\n"
     ]
    }
   ],
   "source": [
    "# Inspect the JSON structure of the object you created, and take note of how nested it is,\n",
    "# as well as the overall structure\n",
    "print(r.headers)\n",
    "print(r.text)\n"
   ]
  },
  {
   "cell_type": "markdown",
   "metadata": {},
   "source": [
    "These are your tasks for this mini project:\n",
    "\n",
    "1. Collect data from the Franfurt Stock Exchange, for the ticker AFX_X, for the whole year 2017 (keep in mind that the date format is YYYY-MM-DD).\n",
    "2. Convert the returned JSON object into a Python dictionary.\n",
    "3. Calculate what the highest and lowest opening prices were for the stock in this period.\n",
    "4. What was the largest change in any one day (based on High and Low price)?\n",
    "5. What was the largest change between any two days (based on Closing Price)?\n",
    "6. What was the average daily trading volume during this year?\n",
    "7. (Optional) What was the median trading volume during this year. (Note: you may need to implement your own function for calculating the median.)"
   ]
  },
  {
   "cell_type": "code",
   "execution_count": 5,
   "metadata": {},
   "outputs": [
    {
     "ename": "KeyError",
     "evalue": "'dataset_data'",
     "output_type": "error",
     "traceback": [
      "\u001b[0;31m---------------------------------------------------------------------------\u001b[0m",
      "\u001b[0;31mKeyError\u001b[0m                                  Traceback (most recent call last)",
      "\u001b[0;32m<ipython-input-5-051caeb20738>\u001b[0m in \u001b[0;36m<module>\u001b[0;34m\u001b[0m\n\u001b[1;32m      1\u001b[0m \u001b[0;31m#Converting json format to dictionary\u001b[0m\u001b[0;34m\u001b[0m\u001b[0;34m\u001b[0m\u001b[0;34m\u001b[0m\u001b[0m\n\u001b[1;32m      2\u001b[0m \u001b[0mdata\u001b[0m \u001b[0;34m=\u001b[0m \u001b[0mr\u001b[0m\u001b[0;34m.\u001b[0m\u001b[0mjson\u001b[0m\u001b[0;34m(\u001b[0m\u001b[0;34m)\u001b[0m\u001b[0;34m\u001b[0m\u001b[0;34m\u001b[0m\u001b[0m\n\u001b[0;32m----> 3\u001b[0;31m \u001b[0mdata\u001b[0m\u001b[0;34m[\u001b[0m\u001b[0;34m'dataset_data'\u001b[0m\u001b[0;34m]\u001b[0m\u001b[0;34m[\u001b[0m\u001b[0;34m'column_names'\u001b[0m\u001b[0;34m]\u001b[0m\u001b[0;34m\u001b[0m\u001b[0;34m\u001b[0m\u001b[0m\n\u001b[0m",
      "\u001b[0;31mKeyError\u001b[0m: 'dataset_data'"
     ]
    }
   ],
   "source": [
    "#Converting json format to dictionary\n",
    "data = r.json()\n",
    "data['dataset_data']['column_names']\n"
   ]
  },
  {
   "cell_type": "code",
   "execution_count": null,
   "metadata": {},
   "outputs": [],
   "source": [
    "#Calculate highest and lowest open prices\n",
    "\n",
    "open_prices = []\n",
    "idx = 0\n",
    "while len(data['dataset_data']['data']) > idx:\n",
    "    open_prices.append(data['dataset_data']['data'][idx][1])\n",
    "    idx += 1\n",
    "    \n",
    "#Removing the None Values.\n",
    "open_prices = [i for i in open_prices if i]\n",
    "        \n",
    "#Calculating the highest price\n",
    "print(\"The highest opening price is $\" + str(max(open_prices)) + \".\")\n",
    "\n",
    "#Calculating the highest price\n",
    "print(\"The lowest opening price is $\" + str(min(open_prices)) + \".\")"
   ]
  },
  {
   "cell_type": "code",
   "execution_count": null,
   "metadata": {},
   "outputs": [],
   "source": [
    "#Calculate the highest change in one day.\n",
    "prices_range = {} \n",
    "\n",
    "# Looping through all date values, using them as keys for the \"prices_range\" dict, and calculating the difference between the high and lows.\n",
    "idx = 0\n",
    "while len(data['dataset_data']['data'][idx]) > idx: \n",
    "    prices_range[data['dataset_data']['data'][idx][0]] = data['dataset_data']['data'][idx][2] - data['dataset_data']['data'][idx][3]\n",
    "    idx += 1\n",
    "    \n",
    "#printing the largest difference in the dictionary    \n",
    "print(str(max(prices_range)) + ' : $' + str(round(max(prices_range.values()), 2)))    "
   ]
  },
  {
   "cell_type": "code",
   "execution_count": null,
   "metadata": {},
   "outputs": [],
   "source": [
    "#Calculate the largest change between any two days.\n",
    "#_I can use the same code in previous cell and change the indexed_\n",
    "\n",
    "#Calculate the highest change in one day.\n",
    "prices_range = {} \n",
    "\n",
    "# Looping through all date values, using them as keys for the \"prices_range\" dict, and calculating the difference between the high and lows.\n",
    "idx = 0\n",
    "while len(data['dataset_data']['data'][idx]) > idx:# Adding +1 to compensate for another day added.\n",
    "    prices_range[data['dataset_data']['data'][idx][0]] = abs(data['dataset_data']['data'][idx][4] - data['dataset_data']['data'][idx+1][4])\n",
    "    idx += 1\n",
    "    \n",
    "#printing the largest difference in the dictionary    \n",
    "print(str(max(prices_range)) + ' : $' + str(round(max(prices_range.values()), 2)))  "
   ]
  },
  {
   "cell_type": "code",
   "execution_count": null,
   "metadata": {},
   "outputs": [],
   "source": [
    "# Average Trading Volume\n",
    "# _Simalar code as before, the volume traded is index 6.\n",
    "volume = []\n",
    "idx = 0\n",
    "while len(data['dataset_data']['data'][idx]) > idx:\n",
    "    volume.append(data['dataset_data']['data'][idx][6])\n",
    "    idx += 1\n",
    "    \n",
    "avg_vol = round(sum(volume)/len(volume))\n",
    "print(avg_vol)"
   ]
  },
  {
   "cell_type": "code",
   "execution_count": null,
   "metadata": {},
   "outputs": [],
   "source": [
    "#Median Trading Volume\n",
    "\n",
    "def median(x):\n",
    "    if len(x)%2 == 1:\n",
    "        return x[int((len(x)/2)+0.5)]\n",
    "    elif len(x)%2 == 0:\n",
    "        return (x[int((len(x)/2)-1)] + x[int((len(x)/2)+1)])/2\n",
    "    \n"
   ]
  },
  {
   "cell_type": "code",
   "execution_count": null,
   "metadata": {},
   "outputs": [],
   "source": [
    "print(median(volume))\n"
   ]
  }
 ],
 "metadata": {
  "kernelspec": {
   "display_name": "Python 3",
   "language": "python",
   "name": "python3"
  },
  "language_info": {
   "codemirror_mode": {
    "name": "ipython",
    "version": 3
   },
   "file_extension": ".py",
   "mimetype": "text/x-python",
   "name": "python",
   "nbconvert_exporter": "python",
   "pygments_lexer": "ipython3",
   "version": "3.7.6"
  }
 },
 "nbformat": 4,
 "nbformat_minor": 2
}
